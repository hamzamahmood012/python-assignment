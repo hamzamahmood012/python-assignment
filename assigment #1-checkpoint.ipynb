{
 "cells": [
  {
   "cell_type": "code",
   "execution_count": 4,
   "metadata": {
    "scrolled": true
   },
   "outputs": [
    {
     "name": "stdout",
     "output_type": "stream",
     "text": [
      "Twinkle, twinkle, little star,\n",
      " \tHow I Wonder What Your are!\n",
      " \t \tup above the world so high,\n",
      " \t \tlike a diamond in the sky.\n",
      "Twinkle, twinkle, little star,\n",
      " \tHow I Wonder What You are\n"
     ]
    }
   ],
   "source": [
    "#Q1\n",
    "a1= \"Twinkle, twinkle, little star,\"\n",
    "a2= \"How I Wonder What Your are!\"\n",
    "a3= \"up above the world so high,\"\n",
    "a4= \"like a diamond in the sky.\"\n",
    "a5= \"Twinkle, twinkle, little star,\"\n",
    "a6= \"How I Wonder What You are\"\n",
    "print(a1 + \"\\n \\t\" + a2 + \"\\n \\t \\t\" + a3 + \"\\n \\t \\t\" + a4 + \"\\n\" + a5 + \"\\n \\t\" + a6)"
   ]
  },
  {
   "cell_type": "code",
   "execution_count": 22,
   "metadata": {},
   "outputs": [
    {
     "name": "stdout",
     "output_type": "stream",
     "text": [
      "3.7.4 (default, Aug  9 2019, 18:22:51) [MSC v.1915 32 bit (Intel)]\n"
     ]
    }
   ],
   "source": [
    "#Q2\n",
    "import sys\n",
    "print(sys.version)"
   ]
  },
  {
   "cell_type": "code",
   "execution_count": 29,
   "metadata": {},
   "outputs": [
    {
     "name": "stdout",
     "output_type": "stream",
     "text": [
      "2019-10-30 13:35:55.072556\n"
     ]
    }
   ],
   "source": [
    "#Q3\n",
    "from datetime import datetime\n",
    "dt =datetime.now()\n",
    "print(dt)"
   ]
  },
  {
   "cell_type": "code",
   "execution_count": 6,
   "metadata": {},
   "outputs": [
    {
     "name": "stdout",
     "output_type": "stream",
     "text": [
      "enter the radius of circle:45\n",
      "area of circle is : 6364.285714285714\n"
     ]
    }
   ],
   "source": [
    "#Q4\n",
    "radius = int(input(\"enter the radius of circle:\"))\n",
    "area = (22/7) *(radius**2)\n",
    "print(\"area of circle is :\",area)"
   ]
  },
  {
   "cell_type": "code",
   "execution_count": 3,
   "metadata": {},
   "outputs": [
    {
     "name": "stdout",
     "output_type": "stream",
     "text": [
      "input your first name:hamza\n",
      "input your last name:mahmood\n",
      "mahmood hamza\n"
     ]
    }
   ],
   "source": [
    "#Q5\n",
    "fname = input(\"input your first name:\")\n",
    "lname = input(\"input your last name:\")\n",
    "print(lname + \" \" + fname)"
   ]
  },
  {
   "cell_type": "code",
   "execution_count": 6,
   "metadata": {},
   "outputs": [
    {
     "name": "stdout",
     "output_type": "stream",
     "text": [
      "enter number 1 :23\n",
      "enter number 2 :5\n",
      "enter number 3 :4\n",
      "23 + 5 + 4 = 32\n"
     ]
    }
   ],
   "source": [
    "#Q6\n",
    "num1 =int(input(\"enter number 1 :\"))\n",
    "num2 =int(input(\"enter number 2 :\"))\n",
    "num3 =int(input(\"enter number 3 :\"))\n",
    "result = num1 + num2 + num3\n",
    "print(\"{0} + {1} + {2} = {3}\". format(num1,num2,num3,result))"
   ]
  }
 ],
 "metadata": {
  "kernelspec": {
   "display_name": "Python 3",
   "language": "python",
   "name": "python3"
  },
  "language_info": {
   "codemirror_mode": {
    "name": "ipython",
    "version": 3
   },
   "file_extension": ".py",
   "mimetype": "text/x-python",
   "name": "python",
   "nbconvert_exporter": "python",
   "pygments_lexer": "ipython3",
   "version": "3.7.4"
  }
 },
 "nbformat": 4,
 "nbformat_minor": 2
}
